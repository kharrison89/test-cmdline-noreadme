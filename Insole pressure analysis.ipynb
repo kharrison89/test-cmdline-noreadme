{
    "cells": [
        {
            "cell_type": "code",
            "execution_count": 1,
            "metadata": {},
            "outputs": [
                {
                    "data": {
                        "text/html": "<div>\n<style scoped>\n    .dataframe tbody tr th:only-of-type {\n        vertical-align: middle;\n    }\n\n    .dataframe tbody tr th {\n        vertical-align: top;\n    }\n\n    .dataframe thead th {\n        text-align: right;\n    }\n</style>\n<table border=\"1\" class=\"dataframe\">\n  <thead>\n    <tr style=\"text-align: right;\">\n      <th></th>\n      <th>Subject</th>\n      <th>Config</th>\n      <th>Side</th>\n      <th>Movement</th>\n      <th>ContactTime</th>\n      <th>meanTotalP</th>\n      <th>sdHeel</th>\n      <th>cvHeel</th>\n      <th>heelArea</th>\n      <th>heelAreaP</th>\n      <th>ffAreaEarly</th>\n      <th>ffAreaIC</th>\n      <th>meanToes</th>\n      <th>meanFf</th>\n      <th>maxmeanHeel</th>\n      <th>maxmeanToes</th>\n      <th>maxmaxHeel</th>\n      <th>maxmaxToes</th>\n      <th>maxmaxMid</th>\n      <th>maxmaxMet</th>\n    </tr>\n  </thead>\n  <tbody>\n    <tr>\n      <th>0</th>\n      <td>AlanMills</td>\n      <td>Lace</td>\n      <td>Right</td>\n      <td>run</td>\n      <td>27</td>\n      <td>64.857986</td>\n      <td>96.368140</td>\n      <td>1.485833</td>\n      <td>6.373077</td>\n      <td>20.294615</td>\n      <td>29.685714</td>\n      <td>10.02</td>\n      <td>0.938874</td>\n      <td>78.845411</td>\n      <td>298.198370</td>\n      <td>119.210400</td>\n      <td>441.471483</td>\n      <td>350.184860</td>\n      <td>218.425997</td>\n      <td>310.539990</td>\n    </tr>\n    <tr>\n      <th>1</th>\n      <td>AlanMills</td>\n      <td>Lace</td>\n      <td>Right</td>\n      <td>run</td>\n      <td>27</td>\n      <td>67.038135</td>\n      <td>102.153260</td>\n      <td>1.523808</td>\n      <td>5.756154</td>\n      <td>18.331538</td>\n      <td>30.639286</td>\n      <td>10.02</td>\n      <td>0.940719</td>\n      <td>78.901591</td>\n      <td>325.984253</td>\n      <td>122.519885</td>\n      <td>486.770056</td>\n      <td>357.148568</td>\n      <td>228.974980</td>\n      <td>310.539990</td>\n    </tr>\n    <tr>\n      <th>2</th>\n      <td>AlanMills</td>\n      <td>Lace</td>\n      <td>Right</td>\n      <td>run</td>\n      <td>27</td>\n      <td>66.568908</td>\n      <td>90.406731</td>\n      <td>1.358092</td>\n      <td>5.396923</td>\n      <td>17.185385</td>\n      <td>30.640000</td>\n      <td>10.02</td>\n      <td>1.069452</td>\n      <td>81.955714</td>\n      <td>296.336785</td>\n      <td>134.516768</td>\n      <td>434.576723</td>\n      <td>403.067670</td>\n      <td>207.808066</td>\n      <td>326.397938</td>\n    </tr>\n    <tr>\n      <th>3</th>\n      <td>AlanMills</td>\n      <td>Lace</td>\n      <td>Right</td>\n      <td>run</td>\n      <td>27</td>\n      <td>67.170284</td>\n      <td>100.246392</td>\n      <td>1.492422</td>\n      <td>5.396923</td>\n      <td>17.185385</td>\n      <td>31.117857</td>\n      <td>10.02</td>\n      <td>1.005779</td>\n      <td>79.979216</td>\n      <td>325.432672</td>\n      <td>126.794636</td>\n      <td>502.421161</td>\n      <td>368.455974</td>\n      <td>228.974980</td>\n      <td>315.780008</td>\n    </tr>\n    <tr>\n      <th>4</th>\n      <td>AlanMills</td>\n      <td>Lace</td>\n      <td>Right</td>\n      <td>run</td>\n      <td>28</td>\n      <td>65.828952</td>\n      <td>100.099711</td>\n      <td>1.520603</td>\n      <td>6.442857</td>\n      <td>20.517143</td>\n      <td>29.639286</td>\n      <td>10.02</td>\n      <td>1.039707</td>\n      <td>76.110763</td>\n      <td>312.608418</td>\n      <td>133.965187</td>\n      <td>494.561135</td>\n      <td>389.209202</td>\n      <td>228.974980</td>\n      <td>316.676327</td>\n    </tr>\n  </tbody>\n</table>\n</div>",
                        "text/plain": "     Subject Config   Side Movement  ContactTime  meanTotalP      sdHeel  \\\n0  AlanMills   Lace  Right      run           27   64.857986   96.368140   \n1  AlanMills   Lace  Right      run           27   67.038135  102.153260   \n2  AlanMills   Lace  Right      run           27   66.568908   90.406731   \n3  AlanMills   Lace  Right      run           27   67.170284  100.246392   \n4  AlanMills   Lace  Right      run           28   65.828952  100.099711   \n\n     cvHeel  heelArea  heelAreaP  ffAreaEarly  ffAreaIC  meanToes     meanFf  \\\n0  1.485833  6.373077  20.294615    29.685714     10.02  0.938874  78.845411   \n1  1.523808  5.756154  18.331538    30.639286     10.02  0.940719  78.901591   \n2  1.358092  5.396923  17.185385    30.640000     10.02  1.069452  81.955714   \n3  1.492422  5.396923  17.185385    31.117857     10.02  1.005779  79.979216   \n4  1.520603  6.442857  20.517143    29.639286     10.02  1.039707  76.110763   \n\n   maxmeanHeel  maxmeanToes  maxmaxHeel  maxmaxToes   maxmaxMid   maxmaxMet  \n0   298.198370   119.210400  441.471483  350.184860  218.425997  310.539990  \n1   325.984253   122.519885  486.770056  357.148568  228.974980  310.539990  \n2   296.336785   134.516768  434.576723  403.067670  207.808066  326.397938  \n3   325.432672   126.794636  502.421161  368.455974  228.974980  315.780008  \n4   312.608418   133.965187  494.561135  389.209202  228.974980  316.676327  "
                    },
                    "execution_count": 1,
                    "metadata": {},
                    "output_type": "execute_result"
                }
            ],
            "source": "# The code was removed by Watson Studio for sharing."
        }
    ],
    "metadata": {
        "kernelspec": {
            "display_name": "Python 3.9",
            "language": "python",
            "name": "python3"
        },
        "language_info": {
            "codemirror_mode": {
                "name": "ipython",
                "version": 3
            },
            "file_extension": ".py",
            "mimetype": "text/x-python",
            "name": "python",
            "nbconvert_exporter": "python",
            "pygments_lexer": "ipython3",
            "version": "3.9.13"
        }
    },
    "nbformat": 4,
    "nbformat_minor": 1
}